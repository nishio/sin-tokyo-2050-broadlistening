{
 "cells": [
  {
   "cell_type": "code",
   "execution_count": 7,
   "metadata": {},
   "outputs": [],
   "source": [
    "import json\n",
    "\n",
    "filename = \"livechat_BFFmfWDEH6Q.live_chat.json\"\n",
    "outfilename = \"livechat_messages.txt\"\n",
    "\n",
    "with open(outfilename, \"w\") as fo:\n",
    "    with open(filename, \"r\", encoding=\"utf-8\") as f:\n",
    "        for line in f:\n",
    "            chat_data = json.loads(line)\n",
    "\n",
    "            # 必要なデータを抽出\n",
    "            actions = chat_data.get(\"replayChatItemAction\", {}).get(\"actions\", [])\n",
    "            for action in actions:\n",
    "                message_data = action.get(\"addChatItemAction\", {}).get(\"item\", {})\n",
    "                text_message = message_data.get(\"liveChatTextMessageRenderer\", {})\n",
    "\n",
    "                if text_message:\n",
    "                    try:\n",
    "                        message = text_message[\"message\"][\"runs\"][0][\"text\"]\n",
    "                        # author = text_message[\"authorName\"][\"simpleText\"]\n",
    "                        # timestamp = text_message[\"timestampText\"][\"simpleText\"]\n",
    "                        # print(f\"{timestamp} - {author}: {message}\")\n",
    "                        print(f\"{message}\", file=fo)\n",
    "                    except Exception as e:\n",
    "                        pass\n"
   ]
  }
 ],
 "metadata": {
  "kernelspec": {
   "display_name": "venv",
   "language": "python",
   "name": "python3"
  },
  "language_info": {
   "codemirror_mode": {
    "name": "ipython",
    "version": 3
   },
   "file_extension": ".py",
   "mimetype": "text/x-python",
   "name": "python",
   "nbconvert_exporter": "python",
   "pygments_lexer": "ipython3",
   "version": "3.10.11"
  }
 },
 "nbformat": 4,
 "nbformat_minor": 2
}
